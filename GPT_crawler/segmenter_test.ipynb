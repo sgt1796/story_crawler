{
 "cells": [
  {
   "cell_type": "code",
   "execution_count": 31,
   "metadata": {},
   "outputs": [],
   "source": [
    "from dotenv import load_dotenv\n",
    "from Embedder import Embedder\n",
    "from scipy.spatial.distance import cosine\n",
    "import numpy as np\n",
    "import json"
   ]
  },
  {
   "cell_type": "markdown",
   "metadata": {},
   "source": [
    "### 1. Generate Semantic Representations:\n",
    "\n",
    "Use a language model (e.g., Sentence-BERT, OpenAI embeddings, Jina) to convert each text element into a semantic vector.\n",
    "\n",
    "### 2. Compute Pairwise Similarities:\n",
    "\n",
    "Calculate cosine similarity between all pairs of vectors.\n",
    "\n",
    "### 3. Iterative Merging:\n",
    "\n",
    "Start with the full list of elements.\n",
    "At each step, identify the two most similar **sequentially adjacent elements** based on semantic similarity.\n",
    "Merge them into a single element (e.g., by concatenation or averaging their embeddings).\n",
    "Update the similarity matrix to reflect the merged element.\n",
    "\n",
    "### 4. Stop Condition:\n",
    "\n",
    "Repeat the merging process until the number of elements in the list equals the desired count.\n",
    "\n",
    "### 5. Output the Final List:\n",
    "\n",
    "Once the required number of elements is reached, return the merged list."
   ]
  },
  {
   "cell_type": "code",
   "execution_count": 32,
   "metadata": {},
   "outputs": [
    {
     "name": "stdout",
     "output_type": "stream",
     "text": [
      "use default model: jina-embeddings-v3\n"
     ]
    },
    {
     "data": {
      "text/plain": [
       "array([[ 0.07486592, -0.08313014,  0.10285179, ...,  0.02311646,\n",
       "        -0.01814659, -0.00055829]], dtype=float32)"
      ]
     },
     "execution_count": 32,
     "metadata": {},
     "output_type": "execute_result"
    }
   ],
   "source": [
    "load_dotenv()\n",
    "embedder = Embedder(use_api='jina')\n",
    "\n",
    "embedder.get_embedding(['hello world'])"
   ]
  },
  {
   "cell_type": "code",
   "execution_count": 33,
   "metadata": {},
   "outputs": [
    {
     "data": {
      "text/plain": [
       "['The Happy Prince. HIGH above the city, on a tall column, stood the statue of the Happy Prince.  He was gilded all over with thin leaves of fine gold, for eyes he had two bright sapphires, and a large red ruby glowed on his sword-hilt. He was very much admired indeed.  “He is as beautiful as a weathercock,” remarked one of the Town Councillors who wished to gain a reputation for having artistic tastes; “only not quite so useful,” he added, fearing lest people should think him unpractical, which he really was not. “Why can’t you be like the Happy Prince?” ',\n",
       " 'asked a sensible mother of her little boy who was crying for the moon.  “The Happy Prince never dreams of crying for anything.” “I am glad there is some one in the world who is quite happy,” muttered a disappointed man as he gazed at the wonderful statue. “He looks just like an angel,” said the Charity Children as they came out of the cathedral in their bright scarlet cloaks and their clean white pinafores. “How do you know?” said the Mathematical Master, “you have never seen one.” ',\n",
       " '“Ah! but we have, in our dreams,” answered the children; and the Mathematical Master frowned and looked very severe, for he did not approve of children dreaming. One night there flew over the city a little Swallow.  His friends had gone away to Egypt six weeks before, but he had stayed behind, for he was in love with the most beautiful Reed.  He had met her early in the spring as he was flying down the river after a big yellow moth, and had been so attracted by her slender waist that he had stopped to talk to her. “Shall I love you?” ',\n",
       " 'said the Swallow, who liked to come to the point at once, and the Reed made him a low bow.  So he flew round and round her, touching the water with his wings, and making silver ripples.  This was his courtship, and it lasted all through the summer. “It is a ridiculous attachment,” twittered the other Swallows; “she has no money, and far too many relations”; ',\n",
       " 'and indeed the river was quite full of Reeds.  Then, when the autumn came they all flew away. After they had gone he felt lonely, and began to tire of his lady-love. “She has no conversation,” he said, “and I am afraid that she is a coquette, for she is always flirting with the wind.”  And certainly, whenever the wind blew, the Reed made the most graceful curtseys.  “I admit that she is domestic,” he continued, “but I love travelling, and my wife, consequently, should love travelling also.” ',\n",
       " '“Will you come away with me?” he said finally to her; but the Reed shook her head, she was so attached to her home. “You have been trifling with me,” he cried.  “I am off to the Pyramids. Good-bye!” and he flew away. All day long he flew, and at night-time he arrived at the city.  “Where shall I put up?” he said; “I hope the town has made preparations.” Then he saw the statue on the tall column. “I will put up there,” he cried; “it is a fine position, with plenty of fresh air.”  ',\n",
       " 'So he alighted just between the feet of the Happy Prince. “I have a golden bedroom,” he said softly to himself as he looked round, and he prepared to go to sleep; but just as he was putting his head under his wing a large drop of water fell on him.  “What a curious thing!” ',\n",
       " 'he cried; “there is not a single cloud in the sky, the stars are quite clear and bright, and yet it is raining.  The climate in the north of Europe is really dreadful.  The Reed used to like the rain, but that was merely her selfishness.” Then another drop fell. “What is the use of a statue if it cannot keep the rain off?” ',\n",
       " 'he said; “I must look for a good chimney-pot,” and he determined to fly away. But before he had opened his wings, a third drop fell, and he looked up, and saw—Ah! what did he see? The eyes of the Happy Prince were filled with tears, and tears were running down his golden cheeks.  His face was so beautiful in the moonlight that the little Swallow was filled with pity. “Who are you?” he said. “I am the Happy Prince.” “Why are you weeping then?” asked the Swallow; “you have quite drenched me.” ',\n",
       " '“When I was alive and had a human heart,” answered the statue, “I did not know what tears were, for I lived in the Palace of Sans-Souci, where sorrow is not allowed to enter.  In the daytime I played with my companions in the garden, and in the evening I led the dance in the Great Hall.  Round the garden ran a very lofty wall, but I never cared to ask what lay beyond it, everything about me was so beautiful.  ',\n",
       " 'My courtiers called me the Happy Prince, and happy indeed I was, if pleasure be happiness.  So I lived, and so I died.  And now that I am dead they have set me up here so high that I can see all the ugliness and all the misery of my city, and though my heart is made of lead yet I cannot chose but weep.” “What! is he not solid gold?” ',\n",
       " 'said the Swallow to himself.  He was too polite to make any personal remarks out loud. “Far away,” continued the statue in a low musical voice, “far away in a little street there is a poor house.  One of the windows is open, and through it I can see a woman seated at a table.  Her face is thin and worn, and she has coarse, red hands, all pricked by the needle, for she is a seamstress.  ',\n",
       " 'She is embroidering passion-flowers on a satin gown for the loveliest of the Queen’s maids-of-honour to wear at the next Court-ball.  In a bed in the corner of the room her little boy is lying ill.  He has a fever, and is asking for oranges.  His mother has nothing to give him but river water, so he is crying.  Swallow, Swallow, little Swallow, will you not bring her the ruby out of my sword-hilt?  My feet are fastened to this pedestal and I cannot move.” ',\n",
       " '“I am waited for in Egypt,” said the Swallow.  “My friends are flying up and down the Nile, and talking to the large lotus-flowers.  Soon they will go to sleep in the tomb of the great King.  The King is there himself in his painted coffin.  He is wrapped in yellow linen, and embalmed with spices.  Round his neck is a chain of pale green jade, and his hands are like withered leaves.” ',\n",
       " '“Swallow, Swallow, little Swallow,” said the Prince, “will you not stay with me for one night, and be my messenger?  The boy is so thirsty, and the mother so sad.” ',\n",
       " '“I don’t think I like boys,” answered the Swallow.  “Last summer, when I was staying on the river, there were two rude boys, the miller’s sons, who were always throwing stones at me.  They never hit me, of course; we swallows fly far too well for that, and besides, I come of a family famous for its agility; but still, it was a mark of disrespect.” ',\n",
       " 'But the Happy Prince looked so sad that the little Swallow was sorry. “It is very cold here,” he said; “but I will stay with you for one night, and be your messenger.” ',\n",
       " '“Thank you, little Swallow,” said the Prince. So the Swallow picked out the great ruby from the Prince’s sword, and flew away with it in his beak over the roofs of the town. He passed by the cathedral tower, where the white marble angels were sculptured.  He passed by the palace and heard the sound of dancing.  A beautiful girl came out on the balcony with her lover.  “How wonderful the stars are,” he said to her, “and how wonderful is the power of love!” ',\n",
       " '“I hope my dress will be ready in time for the State-ball,” she answered; “I have ordered passion-flowers to be embroidered on it; but the seamstresses are so lazy.” ',\n",
       " 'He passed over the river, and saw the lanterns hanging to the masts of the ships.  He passed over the Ghetto, and saw the old Jews bargaining with each other, and weighing out money in copper scales.  At last he came to the poor house and looked in.  The boy was tossing feverishly on his bed, and the mother had fallen asleep, she was so tired.  In he hopped, and laid the great ruby on the table beside the woman’s thimble. Then he flew gently round the bed, fanning the boy’s forehead with his wings.  “How cool I feel,” said the boy, “I must be getting better”; ',\n",
       " 'and he sank into a delicious slumber. Then the Swallow flew back to the Happy Prince, and told him what he had done.  “It is curious,” he remarked, “but I feel quite warm now, although it is so cold.” ',\n",
       " '“That is because you have done a good action,” said the Prince.  And the little Swallow began to think, and then he fell asleep.  Thinking always made him sleepy. When day broke he flew down to the river and had a bath.  “What a remarkable phenomenon,” said the Professor of Ornithology as he was passing over the bridge.  “A swallow in winter!”  ',\n",
       " 'And he wrote a long letter about it to the local newspaper.  Every one quoted it, it was full of so many words that they could not understand. “To-night I go to Egypt,” said the Swallow, and he was in high spirits at the prospect.  He visited all the public monuments, and sat a long time on top of the church steeple.  Wherever he went the Sparrows chirruped, and said to each other, “What a distinguished stranger!” ',\n",
       " 'so he enjoyed himself very much. When the moon rose he flew back to the Happy Prince.  “Have you any commissions for Egypt?” he cried; “I am just starting.” “Swallow, Swallow, little Swallow,” said the Prince, “will you not stay with me one night longer?” ',\n",
       " '“I am waited for in Egypt,” answered the Swallow.  “To-morrow my friends will fly up to the Second Cataract.  The river-horse couches there among the bulrushes, and on a great granite throne sits the God Memnon.  All night long he watches the stars, and when the morning star shines he utters one cry of joy, and then he is silent.  At noon the yellow lions come down to the water’s edge to drink.  They have eyes like green beryls, and their roar is louder than the roar of the cataract.” ',\n",
       " '“Swallow, Swallow, little Swallow,” said the Prince, “far away across the city I see a young man in a garret.  He is leaning over a desk covered with papers, and in a tumbler by his side there is a bunch of withered violets.  His hair is brown and crisp, and his lips are red as a pomegranate, and he has large and dreamy eyes.  He is trying to finish a play for the Director of the Theatre, but he is too cold to write any more.  There is no fire in the grate, and hunger has made him faint.” ',\n",
       " '“I will wait with you one night longer,” said the Swallow, who really had a good heart.  “Shall I take him another ruby?” “Alas!  I have no ruby now,” said the Prince; “my eyes are all that I have left.  They are made of rare sapphires, which were brought out of India a thousand years ago.  Pluck out one of them and take it to him. He will sell it to the jeweller, and buy food and firewood, and finish his play.” “Dear Prince,” said the Swallow, “I cannot do that”; ',\n",
       " 'and he began to weep. “Swallow, Swallow, little Swallow,” said the Prince, “do as I command you.” ',\n",
       " 'So the Swallow plucked out the Prince’s eye, and flew away to the student’s garret.  It was easy enough to get in, as there was a hole in the roof.  Through this he darted, and came into the room.  The young man had his head buried in his hands, so he did not hear the flutter of the bird’s wings, and when he looked up he found the beautiful sapphire lying on the withered violets. “I am beginning to be appreciated,” he cried; “this is from some great admirer.  Now I can finish my play,” ',\n",
       " 'and he looked quite happy. The next day the Swallow flew down to the harbour.  He sat on the mast of a large vessel and watched the sailors hauling big chests out of the hold with ropes.  “Heave a-hoy!” they shouted as each chest came up.  “I am going to Egypt”! cried the Swallow, but nobody minded, and when the moon rose he flew back to the Happy Prince. “I am come to bid you good-bye,” he cried. “Swallow, Swallow, little Swallow,” said the Prince, “will you not stay with me one night longer?” ',\n",
       " '“It is winter,” answered the Swallow, “and the chill snow will soon be here.  In Egypt the sun is warm on the green palm-trees, and the crocodiles lie in the mud and look lazily about them.  My companions are building a nest in the Temple of Baalbec, and the pink and white doves are watching them, and cooing to each other.  Dear Prince, I must leave you, but I will never forget you, and next spring I will bring you back two beautiful jewels in place of those you have given away.  The ruby shall be redder than a red rose, and the sapphire shall be as blue as the great sea.” ',\n",
       " '“In the square below,” said the Happy Prince, “there stands a little match-girl.  She has let her matches fall in the gutter, and they are all spoiled.  Her father will beat her if she does not bring home some money, and she is crying.  She has no shoes or stockings, and her little head is bare.  Pluck out my other eye, and give it to her, and her father will not beat her.” “I will stay with you one night longer,” said the Swallow, “but I cannot pluck out your eye.  You would be quite blind then.” ',\n",
       " '“Swallow, Swallow, little Swallow,” said the Prince, “do as I command you.” So he plucked out the Prince’s other eye, and darted down with it.  He swooped past the match-girl, and slipped the jewel into the palm of her hand.  “What a lovely bit of glass,” cried the little girl; and she ran home, laughing. Then the Swallow came back to the Prince.  “You are blind now,” he said, “so I will stay with you always.” “No, little Swallow,” said the poor Prince, “you must go away to Egypt.” ',\n",
       " '“I will stay with you always,” said the Swallow, and he slept at the Prince’s feet. All the next day he sat on the Prince’s shoulder, and told him stories of what he had seen in strange lands.  ',\n",
       " 'He told him of the red ibises, who stand in long rows on the banks of the Nile, and catch gold-fish in their beaks; of the Sphinx, who is as old as the world itself, and lives in the desert, and knows everything; of the merchants, who walk slowly by the side of their camels, and carry amber beads in their hands; of the King of the Mountains of the Moon, who is as black as ebony, and worships a large crystal; of the great green snake that sleeps in a palm-tree, and has twenty priests to feed it with honey-cakes; and of the pygmies who sail over a big lake on large flat leaves, and are always at war with the butterflies. “Dear little Swallow,” said the Prince, “you tell me of marvellous things, but more marvellous than anything is the suffering of men and of women.  There is no Mystery so great as Misery.  Fly over my city, little Swallow, and tell me what you see there.” So the Swallow flew over the great city, and saw the rich making merry in their beautiful houses, while the beggars were sitting at the gates.  He flew into dark lanes, and saw the white faces of starving children looking out listlessly at the black streets.  Under the archway of a bridge two little boys were lying in one another’s arms to try and keep themselves warm.  “How hungry we are!” they said.  “You must not lie here,” shouted the Watchman, and they wandered out into the rain. Then he flew back and told the Prince what he had seen. “I am covered with fine gold,” said the Prince, “you must take it off, leaf by leaf, and give it to my poor; the living always think that gold can make them happy.” Leaf after leaf of the fine gold the Swallow picked off, till the Happy Prince looked quite dull and grey.  Leaf after leaf of the fine gold he brought to the poor, and the children’s faces grew rosier, and they laughed and played games in the street.  “We have bread now!” they cried. Then the snow came, and after the snow came the frost.  The streets looked as if they were made of silver, they were so bright and glistening; long icicles like crystal daggers hung down from the eaves of the houses, everybody went about in furs, and the little boys wore scarlet caps and skated on the ice. The poor little Swallow grew colder and colder, but he would not leave the Prince, he loved him too well.  He picked up crumbs outside the baker’s door when the baker was not looking and tried to keep himself warm by flapping his wings. But at last he knew that he was going to die.  He had just strength to fly up to the Prince’s shoulder once more.  “Good-bye, dear Prince!” he murmured, “will you let me kiss your hand?” “I am glad that you are going to Egypt at last, little Swallow,” said the Prince, “you have stayed too long here; but you must kiss me on the lips, for I love you.” “It is not to Egypt that I am going,” said the Swallow.  “I am going to the House of Death.  Death is the brother of Sleep, is he not?” And he kissed the Happy Prince on the lips, and fell down dead at his feet. At that moment a curious crack sounded inside the statue, as if something had broken.  The fact is that the leaden heart had snapped right in two. It certainly was a dreadfully hard frost. Early the next morning the Mayor was walking in the square below in company with the Town Councillors.  As they passed the column he looked up at the statue: “Dear me! how shabby the Happy Prince looks!” he said. “How shabby indeed!” cried the Town Councillors, who always agreed with the Mayor; and they went up to look at it. “The ruby has fallen out of his sword, his eyes are gone, and he is golden no longer,” said the Mayor in fact, “he is litttle better than a beggar!” “Little better than a beggar,” said the Town Councillors. “And here is actually a dead bird at his feet!” continued the Mayor.  “We must really issue a proclamation that birds are not to be allowed to die here.”  ',\n",
       " 'And the Town Clerk made a note of the suggestion. So they pulled down the statue of the Happy Prince.  “As he is no longer beautiful he is no longer useful,” said the Art Professor at the University. Then they melted the statue in a furnace, and the Mayor held a meeting of the Corporation to decide what was to be done with the metal.  “We must have another statue, of course,” he said, “and it shall be a statue of myself.” ',\n",
       " '“Of myself,” said each of the Town Councillors, and they quarrelled. When I last heard of them they were quarrelling still. “What a strange thing!” said the overseer of the workmen at the foundry. “This broken lead heart will not melt in the furnace.  We must throw it away.”  ',\n",
       " 'So they threw it on a dust-heap where the dead Swallow was also lying. “Bring me the two most precious things in the city,” said God to one of His Angels; and the Angel brought Him the leaden heart and the dead bird. “You have rightly chosen,” said God, “for in my garden of Paradise this little bird shall sing for evermore, and in my city of gold the Happy Prince shall praise me.” ']"
      ]
     },
     "execution_count": 33,
     "metadata": {},
     "output_type": "execute_result"
    }
   ],
   "source": [
    "\n",
    "long_text = '''\n",
    "The Happy Prince.\n",
    "HIGH above the city, on a tall column, stood the statue of the Happy Prince.  He was gilded all over with thin leaves of fine gold, for eyes he had two bright sapphires, and a large red ruby glowed on his sword-hilt.\n",
    "He was very much admired indeed.  “He is as beautiful as a weathercock,” remarked one of the Town Councillors who wished to gain a reputation for having artistic tastes; “only not quite so useful,” he added, fearing lest people should think him unpractical, which he really was not.\n",
    "“Why can’t you be like the Happy Prince?” asked a sensible mother of her little boy who was crying for the moon.  “The Happy Prince never dreams of crying for anything.”\n",
    "“I am glad there is some one in the world who is quite happy,” muttered a disappointed man as he gazed at the wonderful statue.\n",
    "“He looks just like an angel,” said the Charity Children as they came out of the cathedral in their bright scarlet cloaks and their clean white pinafores.\n",
    "“How do you know?” said the Mathematical Master, “you have never seen one.”\n",
    "“Ah! but we have, in our dreams,” answered the children; and the Mathematical Master frowned and looked very severe, for he did not approve of children dreaming.\n",
    "One night there flew over the city a little Swallow.  His friends had gone away to Egypt six weeks before, but he had stayed behind, for he was in love with the most beautiful Reed.  He had met her early in the spring as he was flying down the river after a big yellow moth, and had been so attracted by her slender waist that he had stopped to talk to her.\n",
    "“Shall I love you?” said the Swallow, who liked to come to the point at once, and the Reed made him a low bow.  So he flew round and round her, touching the water with his wings, and making silver ripples.  This was his courtship, and it lasted all through the summer.\n",
    "“It is a ridiculous attachment,” twittered the other Swallows; “she has no money, and far too many relations”; and indeed the river was quite full of Reeds.  Then, when the autumn came they all flew away.\n",
    "After they had gone he felt lonely, and began to tire of his lady-love.\n",
    "“She has no conversation,” he said, “and I am afraid that she is a coquette, for she is always flirting with the wind.”  And certainly, whenever the wind blew, the Reed made the most graceful curtseys.  “I admit that she is domestic,” he continued, “but I love travelling, and my wife, consequently, should love travelling also.”\n",
    "“Will you come away with me?” he said finally to her; but the Reed shook her head, she was so attached to her home.\n",
    "“You have been trifling with me,” he cried.  “I am off to the Pyramids.\n",
    "Good-bye!” and he flew away.\n",
    "All day long he flew, and at night-time he arrived at the city.  “Where shall I put up?” he said; “I hope the town has made preparations.”\n",
    "Then he saw the statue on the tall column.\n",
    "“I will put up there,” he cried; “it is a fine position, with plenty of fresh air.”  So he alighted just between the feet of the Happy Prince.\n",
    "“I have a golden bedroom,” he said softly to himself as he looked round, and he prepared to go to sleep; but just as he was putting his head under his wing a large drop of water fell on him.  “What a curious thing!” he cried; “there is not a single cloud in the sky, the stars are quite clear and bright, and yet it is raining.  The climate in the north of Europe is really dreadful.  The Reed used to like the rain, but that was merely her selfishness.”\n",
    "Then another drop fell.\n",
    "“What is the use of a statue if it cannot keep the rain off?” he said; “I must look for a good chimney-pot,” and he determined to fly away.\n",
    "But before he had opened his wings, a third drop fell, and he looked up, and saw—Ah! what did he see?\n",
    "The eyes of the Happy Prince were filled with tears, and tears were running down his golden cheeks.  His face was so beautiful in the moonlight that the little Swallow was filled with pity.\n",
    "“Who are you?” he said.\n",
    "“I am the Happy Prince.”\n",
    "“Why are you weeping then?” asked the Swallow; “you have quite drenched me.”\n",
    "“When I was alive and had a human heart,” answered the statue, “I did not know what tears were, for I lived in the Palace of Sans-Souci, where sorrow is not allowed to enter.  In the daytime I played with my companions in the garden, and in the evening I led the dance in the Great Hall.  Round the garden ran a very lofty wall, but I never cared to ask what lay beyond it, everything about me was so beautiful.  My courtiers called me the Happy Prince, and happy indeed I was, if pleasure be happiness.  So I lived, and so I died.  And now that I am dead they have set me up here so high that I can see all the ugliness and all the misery of my city, and though my heart is made of lead yet I cannot chose but weep.”\n",
    "“What! is he not solid gold?” said the Swallow to himself.  He was too polite to make any personal remarks out loud.\n",
    "“Far away,” continued the statue in a low musical voice, “far away in a little street there is a poor house.  One of the windows is open, and through it I can see a woman seated at a table.  Her face is thin and worn, and she has coarse, red hands, all pricked by the needle, for she is a seamstress.  She is embroidering passion-flowers on a satin gown for the loveliest of the Queen’s maids-of-honour to wear at the next Court-ball.  In a bed in the corner of the room her little boy is lying ill.  He has a fever, and is asking for oranges.  His mother has nothing to give him but river water, so he is crying.  Swallow, Swallow, little Swallow, will you not bring her the ruby out of my sword-hilt?  My feet are fastened to this pedestal and I cannot move.”\n",
    "“I am waited for in Egypt,” said the Swallow.  “My friends are flying up and down the Nile, and talking to the large lotus-flowers.  Soon they will go to sleep in the tomb of the great King.  The King is there himself in his painted coffin.  He is wrapped in yellow linen, and embalmed with spices.  Round his neck is a chain of pale green jade, and his hands are like withered leaves.”\n",
    "“Swallow, Swallow, little Swallow,” said the Prince, “will you not stay with me for one night, and be my messenger?  The boy is so thirsty, and the mother so sad.”\n",
    "“I don’t think I like boys,” answered the Swallow.  “Last summer, when I was staying on the river, there were two rude boys, the miller’s sons, who were always throwing stones at me.  They never hit me, of course; we swallows fly far too well for that, and besides, I come of a family famous for its agility; but still, it was a mark of disrespect.”\n",
    "But the Happy Prince looked so sad that the little Swallow was sorry.\n",
    "“It is very cold here,” he said; “but I will stay with you for one night, and be your messenger.”\n",
    "“Thank you, little Swallow,” said the Prince.\n",
    "So the Swallow picked out the great ruby from the Prince’s sword, and flew away with it in his beak over the roofs of the town.\n",
    "He passed by the cathedral tower, where the white marble angels were sculptured.  He passed by the palace and heard the sound of dancing.  A beautiful girl came out on the balcony with her lover.  “How wonderful the stars are,” he said to her, “and how wonderful is the power of love!”\n",
    "“I hope my dress will be ready in time for the State-ball,” she answered; “I have ordered passion-flowers to be embroidered on it; but the seamstresses are so lazy.”\n",
    "He passed over the river, and saw the lanterns hanging to the masts of the ships.  He passed over the Ghetto, and saw the old Jews bargaining with each other, and weighing out money in copper scales.  At last he came to the poor house and looked in.  The boy was tossing feverishly on his bed, and the mother had fallen asleep, she was so tired.  In he hopped, and laid the great ruby on the table beside the woman’s thimble.\n",
    "Then he flew gently round the bed, fanning the boy’s forehead with his wings.  “How cool I feel,” said the boy, “I must be getting better”; and he sank into a delicious slumber.\n",
    "Then the Swallow flew back to the Happy Prince, and told him what he had done.  “It is curious,” he remarked, “but I feel quite warm now, although it is so cold.”\n",
    "“That is because you have done a good action,” said the Prince.  And the little Swallow began to think, and then he fell asleep.  Thinking always made him sleepy.\n",
    "When day broke he flew down to the river and had a bath.  “What a remarkable phenomenon,” said the Professor of Ornithology as he was passing over the bridge.  “A swallow in winter!”  And he wrote a long letter about it to the local newspaper.  Every one quoted it, it was full of so many words that they could not understand.\n",
    "“To-night I go to Egypt,” said the Swallow, and he was in high spirits at the prospect.  He visited all the public monuments, and sat a long time on top of the church steeple.  Wherever he went the Sparrows chirruped, and said to each other, “What a distinguished stranger!” so he enjoyed himself very much.\n",
    "When the moon rose he flew back to the Happy Prince.  “Have you any commissions for Egypt?” he cried; “I am just starting.”\n",
    "“Swallow, Swallow, little Swallow,” said the Prince, “will you not stay with me one night longer?”\n",
    "“I am waited for in Egypt,” answered the Swallow.  “To-morrow my friends will fly up to the Second Cataract.  The river-horse couches there among the bulrushes, and on a great granite throne sits the God Memnon.  All night long he watches the stars, and when the morning star shines he utters one cry of joy, and then he is silent.  At noon the yellow lions come down to the water’s edge to drink.  They have eyes like green beryls, and their roar is louder than the roar of the cataract.”\n",
    "“Swallow, Swallow, little Swallow,” said the Prince, “far away across the city I see a young man in a garret.  He is leaning over a desk covered with papers, and in a tumbler by his side there is a bunch of withered violets.  His hair is brown and crisp, and his lips are red as a pomegranate, and he has large and dreamy eyes.  He is trying to finish a play for the Director of the Theatre, but he is too cold to write any more.  There is no fire in the grate, and hunger has made him faint.”\n",
    "“I will wait with you one night longer,” said the Swallow, who really had a good heart.  “Shall I take him another ruby?”\n",
    "“Alas!  I have no ruby now,” said the Prince; “my eyes are all that I have left.  They are made of rare sapphires, which were brought out of India a thousand years ago.  Pluck out one of them and take it to him.\n",
    "He will sell it to the jeweller, and buy food and firewood, and finish his play.”\n",
    "“Dear Prince,” said the Swallow, “I cannot do that”; and he began to weep.\n",
    "“Swallow, Swallow, little Swallow,” said the Prince, “do as I command you.”\n",
    "So the Swallow plucked out the Prince’s eye, and flew away to the student’s garret.  It was easy enough to get in, as there was a hole in the roof.  Through this he darted, and came into the room.  The young man had his head buried in his hands, so he did not hear the flutter of the bird’s wings, and when he looked up he found the beautiful sapphire lying on the withered violets.\n",
    "“I am beginning to be appreciated,” he cried; “this is from some great admirer.  Now I can finish my play,” and he looked quite happy.\n",
    "The next day the Swallow flew down to the harbour.  He sat on the mast of a large vessel and watched the sailors hauling big chests out of the hold with ropes.  “Heave a-hoy!” they shouted as each chest came up.  “I am going to Egypt”! cried the Swallow, but nobody minded, and when the moon rose he flew back to the Happy Prince.\n",
    "“I am come to bid you good-bye,” he cried.\n",
    "“Swallow, Swallow, little Swallow,” said the Prince, “will you not stay with me one night longer?”\n",
    "“It is winter,” answered the Swallow, “and the chill snow will soon be here.  In Egypt the sun is warm on the green palm-trees, and the crocodiles lie in the mud and look lazily about them.  My companions are building a nest in the Temple of Baalbec, and the pink and white doves are watching them, and cooing to each other.  Dear Prince, I must leave you, but I will never forget you, and next spring I will bring you back two beautiful jewels in place of those you have given away.  The ruby shall be redder than a red rose, and the sapphire shall be as blue as the great sea.”\n",
    "“In the square below,” said the Happy Prince, “there stands a little match-girl.  She has let her matches fall in the gutter, and they are all spoiled.  Her father will beat her if she does not bring home some money, and she is crying.  She has no shoes or stockings, and her little head is bare.  Pluck out my other eye, and give it to her, and her father will not beat her.”\n",
    "“I will stay with you one night longer,” said the Swallow, “but I cannot pluck out your eye.  You would be quite blind then.”\n",
    "“Swallow, Swallow, little Swallow,” said the Prince, “do as I command you.”\n",
    "So he plucked out the Prince’s other eye, and darted down with it.  He swooped past the match-girl, and slipped the jewel into the palm of her hand.  “What a lovely bit of glass,” cried the little girl; and she ran home, laughing.\n",
    "Then the Swallow came back to the Prince.  “You are blind now,” he said, “so I will stay with you always.”\n",
    "“No, little Swallow,” said the poor Prince, “you must go away to Egypt.”\n",
    "“I will stay with you always,” said the Swallow, and he slept at the Prince’s feet.\n",
    "All the next day he sat on the Prince’s shoulder, and told him stories of what he had seen in strange lands.  He told him of the red ibises, who stand in long rows on the banks of the Nile, and catch gold-fish in their beaks; of the Sphinx, who is as old as the world itself, and lives in the desert, and knows everything; of the merchants, who walk slowly by the side of their camels, and carry amber beads in their hands; of the King of the Mountains of the Moon, who is as black as ebony, and worships a large crystal; of the great green snake that sleeps in a palm-tree, and has twenty priests to feed it with honey-cakes; and of the pygmies who sail over a big lake on large flat leaves, and are always at war with the butterflies.\n",
    "“Dear little Swallow,” said the Prince, “you tell me of marvellous things, but more marvellous than anything is the suffering of men and of women.  There is no Mystery so great as Misery.  Fly over my city, little Swallow, and tell me what you see there.”\n",
    "So the Swallow flew over the great city, and saw the rich making merry in their beautiful houses, while the beggars were sitting at the gates.  He flew into dark lanes, and saw the white faces of starving children looking out listlessly at the black streets.  Under the archway of a bridge two little boys were lying in one another’s arms to try and keep themselves warm.  “How hungry we are!” they said.  “You must not lie here,” shouted the Watchman, and they wandered out into the rain.\n",
    "Then he flew back and told the Prince what he had seen.\n",
    "“I am covered with fine gold,” said the Prince, “you must take it off, leaf by leaf, and give it to my poor; the living always think that gold can make them happy.”\n",
    "Leaf after leaf of the fine gold the Swallow picked off, till the Happy Prince looked quite dull and grey.  Leaf after leaf of the fine gold he brought to the poor, and the children’s faces grew rosier, and they laughed and played games in the street.  “We have bread now!” they cried.\n",
    "Then the snow came, and after the snow came the frost.  The streets looked as if they were made of silver, they were so bright and glistening; long icicles like crystal daggers hung down from the eaves of the houses, everybody went about in furs, and the little boys wore scarlet caps and skated on the ice.\n",
    "The poor little Swallow grew colder and colder, but he would not leave the Prince, he loved him too well.  He picked up crumbs outside the baker’s door when the baker was not looking and tried to keep himself warm by flapping his wings.\n",
    "But at last he knew that he was going to die.  He had just strength to fly up to the Prince’s shoulder once more.  “Good-bye, dear Prince!” he murmured, “will you let me kiss your hand?”\n",
    "“I am glad that you are going to Egypt at last, little Swallow,” said the Prince, “you have stayed too long here; but you must kiss me on the lips, for I love you.”\n",
    "“It is not to Egypt that I am going,” said the Swallow.  “I am going to the House of Death.  Death is the brother of Sleep, is he not?”\n",
    "And he kissed the Happy Prince on the lips, and fell down dead at his feet.\n",
    "At that moment a curious crack sounded inside the statue, as if something had broken.  The fact is that the leaden heart had snapped right in two.\n",
    "It certainly was a dreadfully hard frost.\n",
    "Early the next morning the Mayor was walking in the square below in company with the Town Councillors.  As they passed the column he looked up at the statue: “Dear me! how shabby the Happy Prince looks!” he said.\n",
    "“How shabby indeed!” cried the Town Councillors, who always agreed with the Mayor; and they went up to look at it.\n",
    "“The ruby has fallen out of his sword, his eyes are gone, and he is golden no longer,” said the Mayor in fact, “he is litttle better than a beggar!”\n",
    "“Little better than a beggar,” said the Town Councillors.\n",
    "“And here is actually a dead bird at his feet!” continued the Mayor.  “We must really issue a proclamation that birds are not to be allowed to die here.”  And the Town Clerk made a note of the suggestion.\n",
    "So they pulled down the statue of the Happy Prince.  “As he is no longer beautiful he is no longer useful,” said the Art Professor at the University.\n",
    "Then they melted the statue in a furnace, and the Mayor held a meeting of the Corporation to decide what was to be done with the metal.  “We must have another statue, of course,” he said, “and it shall be a statue of myself.”\n",
    "“Of myself,” said each of the Town Councillors, and they quarrelled.\n",
    "When I last heard of them they were quarrelling still.\n",
    "“What a strange thing!” said the overseer of the workmen at the foundry.\n",
    "“This broken lead heart will not melt in the furnace.  We must throw it away.”  So they threw it on a dust-heap where the dead Swallow was also lying.\n",
    "“Bring me the two most precious things in the city,” said God to one of His Angels; and the Angel brought Him the leaden heart and the dead bird.\n",
    "“You have rightly chosen,” said God, “for in my garden of Paradise this little bird shall sing for evermore, and in my city of gold the Happy Prince shall praise me.”\n",
    "'''\n",
    "\n",
    "# remove new lines\n",
    "long_text = long_text.replace('\\n', ' ')\n",
    "\n",
    "chunked_text = embedder._Jina_segmenter(long_text, max_token=4000)\n",
    "chunked_text"
   ]
  },
  {
   "cell_type": "code",
   "execution_count": 34,
   "metadata": {},
   "outputs": [
    {
     "data": {
      "text/plain": [
       "38"
      ]
     },
     "execution_count": 34,
     "metadata": {},
     "output_type": "execute_result"
    }
   ],
   "source": [
    "len(chunked_text)"
   ]
  },
  {
   "cell_type": "markdown",
   "metadata": {},
   "source": [
    "## Embedding Chunked long text"
   ]
  },
  {
   "cell_type": "code",
   "execution_count": 35,
   "metadata": {},
   "outputs": [
    {
     "data": {
      "text/plain": [
       "array([[-0.0915644 , -0.02378979,  0.04200571, ...,  0.01249801,\n",
       "        -0.00448153, -0.02102592],\n",
       "       [-0.06948926, -0.03979685,  0.08345059, ...,  0.00224316,\n",
       "        -0.0083674 , -0.04032576],\n",
       "       [-0.0400652 , -0.05218078,  0.15234242, ..., -0.01632056,\n",
       "         0.01825175,  0.00475349],\n",
       "       ...,\n",
       "       [ 0.040709  ,  0.00919824,  0.05655076, ...,  0.02085279,\n",
       "        -0.00716427, -0.00043136],\n",
       "       [ 0.09744811,  0.06474195, -0.00322967, ...,  0.0153926 ,\n",
       "         0.00374133, -0.00796902],\n",
       "       [-0.0660423 ,  0.01650323,  0.0949619 , ...,  0.0021852 ,\n",
       "        -0.02693116, -0.03953273]], dtype=float32)"
      ]
     },
     "execution_count": 35,
     "metadata": {},
     "output_type": "execute_result"
    }
   ],
   "source": [
    "chunk_embedding = embedder._get_jina_embedding(chunked_text, dim = 64)\n",
    "chunk_embedding"
   ]
  },
  {
   "cell_type": "markdown",
   "metadata": {},
   "source": [
    "## Iterative merge"
   ]
  },
  {
   "cell_type": "code",
   "execution_count": 36,
   "metadata": {},
   "outputs": [
    {
     "data": {
      "text/plain": [
       "array([[-0.0915644 , -0.02378979,  0.04200571, ...,  0.01249801,\n",
       "        -0.00448153, -0.02102592],\n",
       "       [-0.06948926, -0.03979685,  0.08345059, ...,  0.00224316,\n",
       "        -0.0083674 , -0.04032576],\n",
       "       [-0.0400652 , -0.05218078,  0.15234242, ..., -0.01632056,\n",
       "         0.01825175,  0.00475349],\n",
       "       ...,\n",
       "       [ 0.040709  ,  0.00919824,  0.05655076, ...,  0.02085279,\n",
       "        -0.00716427, -0.00043136],\n",
       "       [ 0.09744811,  0.06474195, -0.00322967, ...,  0.0153926 ,\n",
       "         0.00374133, -0.00796902],\n",
       "       [-0.0660423 ,  0.01650323,  0.0949619 , ...,  0.0021852 ,\n",
       "        -0.02693116, -0.03953273]], dtype=float32)"
      ]
     },
     "execution_count": 36,
     "metadata": {},
     "output_type": "execute_result"
    }
   ],
   "source": [
    "similarities = [\n",
    "            1 - cosine(chunk_embedding[i], chunk_embedding[i + 1])\n",
    "            for i in range(len(chunk_embedding) - 1)\n",
    "        ]\n",
    "\n",
    "chunk_embedding"
   ]
  },
  {
   "cell_type": "code",
   "execution_count": 37,
   "metadata": {},
   "outputs": [
    {
     "name": "stdout",
     "output_type": "stream",
     "text": [
      "The most similar chunks are chunk 20 and 21 with a similarity score of 0.7449988126754761\n"
     ]
    },
    {
     "data": {
      "text/plain": [
       "'and he sank into a delicious slumber. Then the Swallow flew back to the Happy Prince, and told him what he had done.  “It is curious,” he remarked, “but I feel quite warm now, although it is so cold.”  “That is because you have done a good action,” said the Prince.  And the little Swallow began to think, and then he fell asleep.  Thinking always made him sleepy. When day broke he flew down to the river and had a bath.  “What a remarkable phenomenon,” said the Professor of Ornithology as he was passing over the bridge.  “A swallow in winter!”  '"
      ]
     },
     "execution_count": 37,
     "metadata": {},
     "output_type": "execute_result"
    }
   ],
   "source": [
    "## Find the most similar adjacent chunks, merge them and remove the second chunk\n",
    "## Then update the similarity scores\n",
    "\n",
    "max_idx = np.argmax(similarities)\n",
    "max_idx\n",
    "print(f\"The most similar chunks are chunk {max_idx} and {max_idx+1} with a similarity score of {np.max(similarities)}\")    \n",
    "\n",
    "#print(f\"chunk {max_idx}: {chunked_text[max_idx]}\")\n",
    "#print(f\"chunk {max_idx+1}: {chunked_text[max_idx+1]}\")\n",
    "\n",
    "merged_text = f\"{chunked_text[max_idx]} {chunked_text[max_idx + 1]}\"\n",
    "chunked_text[max_idx] = merged_text\n",
    "chunked_text.pop(max_idx + 1)\n",
    "\n",
    "## update embedding\n",
    "chunk_embedding[max_idx] = embedder._get_jina_embedding([merged_text], dim = 64)[0]\n",
    "chunk_embedding = np.delete(chunk_embedding, max_idx + 1, axis=0)\n",
    "\n",
    "# Update similarities\n",
    "if max_idx > 0:  # Update similarity with the previous neighbor\n",
    "    similarities[max_idx - 1] = 1 - cosine(chunk_embedding[max_idx - 1], chunk_embedding[max_idx])\n",
    "\n",
    "if max_idx < len(similarities) - 1:  # Update similarity with the next neighbor\n",
    "    similarities[max_idx] = 1 - cosine(chunk_embedding[max_idx], chunk_embedding[max_idx + 1])\n",
    "    \n",
    "# Remove the similarity for the merged element\n",
    "similarities.pop(max_idx)\n",
    "\n",
    "\n",
    "## next iteration...\n",
    "\n",
    "merged_text"
   ]
  },
  {
   "cell_type": "code",
   "execution_count": 38,
   "metadata": {},
   "outputs": [],
   "source": [
    "def iterative_sequential_merge(chunked_text, embedder, target_count, embedding_dim):\n",
    "    \"\"\"\n",
    "    Iteratively merge sequentially adjacent text chunks based on semantic similarity\n",
    "    until a target count is reached.\n",
    "\n",
    "    Args:\n",
    "        text_list (list of str): List of textual elements to merge.\n",
    "        embedder: Embedder object with a method `_get_jina_embedding(chunked_text, dim)`.\n",
    "        target_count (int): Desired number of elements in the final list.\n",
    "        embedding_dim (int): Dimension of the embeddings.\n",
    "\n",
    "    Returns:\n",
    "        list of str: Merged list of text elements.\n",
    "    \"\"\"\n",
    "    text_chunks = chunked_text.copy() # create a copy of the text chunks so that the original list is not modified\n",
    "    print(f\"Initial number of chunks: {len(text_chunks)}\")\n",
    "    print(f\"Target number of chunks: {target_count}\")\n",
    "    ## Check if the target count is already reached\n",
    "    if len(text_chunks) <= target_count:\n",
    "        return text_chunks\n",
    "    \n",
    "    chunk_embedding = embedder._get_jina_embedding(text_chunks, dim = embedding_dim)\n",
    "    # list of similarity of adjacent chunks\n",
    "    similarities = [\n",
    "        1 - cosine(chunk_embedding[i], chunk_embedding[i + 1])\n",
    "        for i in range(len(chunk_embedding) - 1)\n",
    "    ]\n",
    "    while len(text_chunks) > target_count:\n",
    "        ## Find the most similar adjacent chunks, merge them and remove the second chunk\n",
    "        ## Then update the similarity scores\n",
    "        max_idx = np.argmax(similarities)\n",
    "        print(f\"Merge chunk {max_idx} and {max_idx+1} with a similarity score of {np.max(similarities)}. New length: {len(text_chunks)}\")    \n",
    "\n",
    "        merged_text = f\"{chunked_text[max_idx]} {chunked_text[max_idx + 1]}\"\n",
    "        text_chunks[max_idx] = merged_text\n",
    "        text_chunks.pop(max_idx + 1)\n",
    "        #print(merged_text)\n",
    "\n",
    "        ## update embedding\n",
    "        chunk_embedding[max_idx] = embedder._get_jina_embedding([merged_text], dim = 64)[0]\n",
    "        chunk_embedding = np.delete(chunk_embedding, max_idx + 1, axis=0)\n",
    "\n",
    "        # Update similarities\n",
    "        if max_idx > 0:  # Update similarity with the previous neighbor\n",
    "            similarities[max_idx - 1] = 1 - cosine(chunk_embedding[max_idx - 1], chunk_embedding[max_idx])\n",
    "        if max_idx < len(similarities) - 1:  # Update similarity with the next neighbor\n",
    "            similarities[max_idx] = 1 - cosine(chunk_embedding[max_idx], chunk_embedding[max_idx + 1])\n",
    "        # Remove the similarity for the merged element\n",
    "        similarities.pop(max_idx)\n",
    "\n",
    "    return text_chunks"
   ]
  },
  {
   "cell_type": "code",
   "execution_count": 39,
   "metadata": {},
   "outputs": [
    {
     "name": "stdout",
     "output_type": "stream",
     "text": [
      "Initial number of chunks: 37\n",
      "Target number of chunks: 5\n",
      "Merge chunk 30 and 31 with a similarity score of 0.7010912120992681. New length: 37\n",
      "Merge chunk 27 and 28 with a similarity score of 0.6280298607367205. New length: 36\n",
      "Merge chunk 29 and 30 with a similarity score of 0.6144766441299542. New length: 35\n",
      "Merge chunk 28 and 29 with a similarity score of 0.9527627229690552. New length: 34\n",
      "Merge chunk 27 and 28 with a similarity score of 0.8210511420904287. New length: 33\n",
      "Merge chunk 3 and 4 with a similarity score of 0.6057207294882498. New length: 32\n",
      "Merge chunk 28 and 29 with a similarity score of 0.5872379716407651. New length: 31\n",
      "Merge chunk 27 and 28 with a similarity score of 0.7513426690493437. New length: 30\n",
      "Merge chunk 26 and 27 with a similarity score of 1.0. New length: 29\n",
      "Merge chunk 25 and 26 with a similarity score of 0.6905542817877022. New length: 28\n",
      "Merge chunk 24 and 25 with a similarity score of 0.9873823810263657. New length: 27\n",
      "Merge chunk 23 and 24 with a similarity score of 0.9083837161521637. New length: 26\n",
      "Merge chunk 22 and 23 with a similarity score of 0.9303642552873953. New length: 25\n",
      "Merge chunk 21 and 22 with a similarity score of 0.9033223390579224. New length: 24\n",
      "Merge chunk 20 and 21 with a similarity score of 0.95362389087677. New length: 23\n",
      "Merge chunk 19 and 20 with a similarity score of 0.9490745350442692. New length: 22\n",
      "Merge chunk 18 and 19 with a similarity score of 0.8787830544243438. New length: 21\n",
      "Merge chunk 17 and 18 with a similarity score of 0.64289841695107. New length: 20\n",
      "Merge chunk 16 and 17 with a similarity score of 0.9894434809684753. New length: 19\n",
      "Merge chunk 15 and 16 with a similarity score of 0.8147818688983286. New length: 18\n",
      "Merge chunk 14 and 15 with a similarity score of 0.8811246681883749. New length: 17\n",
      "Merge chunk 13 and 14 with a similarity score of 0.8604377085361851. New length: 16\n",
      "Merge chunk 12 and 13 with a similarity score of 0.9615961359028723. New length: 15\n",
      "Merge chunk 11 and 12 with a similarity score of 0.8722334504127502. New length: 14\n",
      "Merge chunk 10 and 11 with a similarity score of 0.8980811712838679. New length: 13\n",
      "Merge chunk 9 and 10 with a similarity score of 0.8010699987730387. New length: 12\n",
      "Merge chunk 8 and 9 with a similarity score of 0.8766123913709046. New length: 11\n",
      "Merge chunk 7 and 8 with a similarity score of 0.9151649747838076. New length: 10\n",
      "Merge chunk 6 and 7 with a similarity score of 0.8626310393058076. New length: 9\n",
      "Merge chunk 5 and 6 with a similarity score of 0.886431872844696. New length: 8\n",
      "Merge chunk 4 and 5 with a similarity score of 0.9560180902481079. New length: 7\n",
      "Merge chunk 3 and 4 with a similarity score of 0.8053771737442731. New length: 6\n"
     ]
    },
    {
     "data": {
      "text/plain": [
       "['The Happy Prince. HIGH above the city, on a tall column, stood the statue of the Happy Prince.  He was gilded all over with thin leaves of fine gold, for eyes he had two bright sapphires, and a large red ruby glowed on his sword-hilt. He was very much admired indeed.  “He is as beautiful as a weathercock,” remarked one of the Town Councillors who wished to gain a reputation for having artistic tastes; “only not quite so useful,” he added, fearing lest people should think him unpractical, which he really was not. “Why can’t you be like the Happy Prince?” ',\n",
       " 'asked a sensible mother of her little boy who was crying for the moon.  “The Happy Prince never dreams of crying for anything.” “I am glad there is some one in the world who is quite happy,” muttered a disappointed man as he gazed at the wonderful statue. “He looks just like an angel,” said the Charity Children as they came out of the cathedral in their bright scarlet cloaks and their clean white pinafores. “How do you know?” said the Mathematical Master, “you have never seen one.” ',\n",
       " '“Ah! but we have, in our dreams,” answered the children; and the Mathematical Master frowned and looked very severe, for he did not approve of children dreaming. One night there flew over the city a little Swallow.  His friends had gone away to Egypt six weeks before, but he had stayed behind, for he was in love with the most beautiful Reed.  He had met her early in the spring as he was flying down the river after a big yellow moth, and had been so attracted by her slender waist that he had stopped to talk to her. “Shall I love you?” ',\n",
       " 'said the Swallow, who liked to come to the point at once, and the Reed made him a low bow.  So he flew round and round her, touching the water with his wings, and making silver ripples.  This was his courtship, and it lasted all through the summer. “It is a ridiculous attachment,” twittered the other Swallows; “she has no money, and far too many relations”;  and indeed the river was quite full of Reeds.  Then, when the autumn came they all flew away. After they had gone he felt lonely, and began to tire of his lady-love. “She has no conversation,” he said, “and I am afraid that she is a coquette, for she is always flirting with the wind.”  And certainly, whenever the wind blew, the Reed made the most graceful curtseys.  “I admit that she is domestic,” he continued, “but I love travelling, and my wife, consequently, should love travelling also.” ',\n",
       " 'So they threw it on a dust-heap where the dead Swallow was also lying. “Bring me the two most precious things in the city,” said God to one of His Angels; and the Angel brought Him the leaden heart and the dead bird. “You have rightly chosen,” said God, “for in my garden of Paradise this little bird shall sing for evermore, and in my city of gold the Happy Prince shall praise me.” ']"
      ]
     },
     "execution_count": 39,
     "metadata": {},
     "output_type": "execute_result"
    }
   ],
   "source": [
    "merged_chunked_text = iterative_sequential_merge(chunked_text, embedder, 5, 64)\n",
    "merged_chunked_text"
   ]
  }
 ],
 "metadata": {
  "kernelspec": {
   "display_name": "Python 3",
   "language": "python",
   "name": "python3"
  },
  "language_info": {
   "codemirror_mode": {
    "name": "ipython",
    "version": 3
   },
   "file_extension": ".py",
   "mimetype": "text/x-python",
   "name": "python",
   "nbconvert_exporter": "python",
   "pygments_lexer": "ipython3",
   "version": "3.11.4"
  }
 },
 "nbformat": 4,
 "nbformat_minor": 2
}
