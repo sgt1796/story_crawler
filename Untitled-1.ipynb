{
 "cells": [
  {
   "cell_type": "code",
   "execution_count": null,
   "metadata": {},
   "outputs": [],
   "source": [
    "import requests\n",
    "from bs4 import BeautifulSoup"
   ]
  },
  {
   "cell_type": "code",
   "execution_count": null,
   "metadata": {},
   "outputs": [],
   "source": [
    "url = 'http://www.wpwx.cn/news/tonghua/'\n",
    "response = requests.get(url)\n",
    "response.encoding = 'gbk'\n",
    "soup = BeautifulSoup(response.text, 'html.parser')"
   ]
  },
  {
   "cell_type": "code",
   "execution_count": null,
   "metadata": {},
   "outputs": [],
   "source": [
    "stories = soup.find_all('a', href=lambda x: x and x.startswith('/news/tonghua/'))\n",
    "ignore = ['童话故事', '中国童话故事']\n",
    "\n",
    "titles = {}\n",
    "index = {}\n",
    "page_number = 1"
   ]
  },
  {
   "cell_type": "code",
   "execution_count": null,
   "metadata": {},
   "outputs": [],
   "source": [
    "while page_number == 1 or next_page is not None:\n",
    "    print('Page:', page_number)\n",
    "\n",
    "    isIndex = False\n",
    "    for story in stories:\n",
    "        text = story.get_text().strip()\n",
    "        if text in ignore:\n",
    "            print('Ignoring:', text)\n",
    "            continue\n",
    "        if text.isdigit():\n",
    "            isIndex = True\n",
    "            if text not in index:\n",
    "                index[text] = 'http://www.wpwx.cn' + story['href']\n",
    "        else:\n",
    "            if text not in titles:\n",
    "                titles[text] = 'http://www.wpwx.cn' + story['href']\n",
    "    \n",
    "        # exit after reading the indexes\n",
    "        if isIndex and not text.isdigit():\n",
    "            break"
   ]
  }
 ],
 "metadata": {
  "language_info": {
   "name": "python"
  }
 },
 "nbformat": 4,
 "nbformat_minor": 2
}
